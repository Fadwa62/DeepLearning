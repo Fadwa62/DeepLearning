{
  "nbformat": 4,
  "nbformat_minor": 0,
  "metadata": {
    "colab": {
      "provenance": [],
      "authorship_tag": "ABX9TyNrzGIKKt4pKPwZrz1bJhc7",
      "include_colab_link": true
    },
    "kernelspec": {
      "name": "python3",
      "display_name": "Python 3"
    },
    "language_info": {
      "name": "python"
    }
  },
  "cells": [
    {
      "cell_type": "markdown",
      "metadata": {
        "id": "view-in-github",
        "colab_type": "text"
      },
      "source": [
        "<a href=\"https://colab.research.google.com/github/Fadwa62/DeepLearning/blob/main/PINN_heat.eqt.ipynb\" target=\"_parent\"><img src=\"https://colab.research.google.com/assets/colab-badge.svg\" alt=\"Open In Colab\"/></a>"
      ]
    },
    {
      "cell_type": "code",
      "execution_count": null,
      "metadata": {
        "colab": {
          "base_uri": "https://localhost:8080/",
          "height": 585
        },
        "id": "hIE05Z202heg",
        "outputId": "ff00b785-b678-410a-d283-429f930a6049"
      },
      "outputs": [
        {
          "output_type": "stream",
          "name": "stdout",
          "text": [
            "Epoch 0, Loss=1.23582e-01, alpha=0.5010\n",
            "Epoch 500, Loss=6.92901e-03, alpha=0.2527\n",
            "Epoch 1000, Loss=4.27224e-04, alpha=0.1861\n",
            "Epoch 1500, Loss=1.33303e-04, alpha=0.1937\n",
            "Epoch 2000, Loss=5.78717e-05, alpha=0.1962\n",
            "Epoch 2500, Loss=3.97183e-05, alpha=0.1972\n",
            "Epoch 3000, Loss=4.00051e-04, alpha=0.1976\n",
            "Epoch 3500, Loss=2.28455e-05, alpha=0.1981\n",
            "Epoch 4000, Loss=1.97596e-05, alpha=0.1983\n",
            "Epoch 4500, Loss=1.79426e-05, alpha=0.1984\n"
          ]
        },
        {
          "output_type": "display_data",
          "data": {
            "text/plain": [
              "<Figure size 600x400 with 2 Axes>"
            ],
            "image/png": "[encoded data removed]"
          },
          "metadata": {}
        }
      ],
      "source": [
        "!pip install torch numpy matplotlib scipy -q\n",
        "\n",
        "import torch\n",
        "import torch.nn as nn\n",
        "import numpy as np\n",
        "import matplotlib.pyplot as plt\n",
        "from scipy.integrate import solve_ivp\n",
        "\n",
        "device = 'cuda' if torch.cuda.is_available() else 'cpu'\n",
        "\n",
        "# -------------------------\n",
        "# 1) Génération de données fictives (alpha=0.2)\n",
        "# -------------------------\n",
        "alpha_true = 0.2\n",
        "nx, nt = 50, 50\n",
        "x = np.linspace(0,1,nx)\n",
        "t = np.linspace(0,1,nt)\n",
        "\n",
        "# solution analytique connue pour cette CI: u0 = sin(pi*x)\n",
        "# u(t,x) = exp(-alpha*pi^2*t)*sin(pi*x)\n",
        "X, T = np.meshgrid(x,t)\n",
        "U_true = np.exp(-alpha_true*(np.pi**2)*T)*np.sin(np.pi*X)\n",
        "\n",
        "# on prend quelques points comme \"données mesurées\"\n",
        "idx = np.random.choice(nx*nt, size=500, replace=False)\n",
        "tx_data = np.stack([T.flatten()[idx], X.flatten()[idx]], axis=1)\n",
        "u_data = U_true.flatten()[idx][:,None]\n",
        "\n",
        "tx_data = torch.tensor(tx_data, dtype=torch.float32).to(device)\n",
        "u_data = torch.tensor(u_data, dtype=torch.float32).to(device)\n",
        "\n",
        "# -------------------------\n",
        "# 2) Modèle PINN avec alpha appris\n",
        "# -------------------------\n",
        "class PINN(nn.Module):\n",
        "    def __init__(self):\n",
        "        super().__init__()\n",
        "        self.net = nn.Sequential(\n",
        "            nn.Linear(2, 50),\n",
        "            nn.Tanh(),\n",
        "            nn.Linear(50, 50),\n",
        "            nn.Tanh(),\n",
        "            nn.Linear(50, 1)\n",
        "        )\n",
        "        # paramètre alpha inconnu\n",
        "        self.alpha = nn.Parameter(torch.tensor(0.5))  # initial guess\n",
        "\n",
        "    def forward(self, tx):\n",
        "        return self.net(tx)\n",
        "\n",
        "model = PINN().to(device)\n",
        "optim = torch.optim.Adam(model.parameters(), lr=1e-3)\n",
        "\n",
        "# points collocation pour le résidu PDE\n",
        "N_f = 2000\n",
        "tx_f = torch.rand(N_f,2).to(device)\n",
        "\n",
        "# -------------------------\n",
        "# 3) Entraînement\n",
        "# -------------------------\n",
        "for epoch in range(5000):\n",
        "    optim.zero_grad()\n",
        "\n",
        "    # Résidu PDE\n",
        "    tx_f_ = tx_f.clone().requires_grad_(True)\n",
        "    u = model(tx_f_)\n",
        "    grads = torch.autograd.grad(u, tx_f_, torch.ones_like(u), create_graph=True)[0]\n",
        "    u_t = grads[:,0:1]\n",
        "    u_x = grads[:,1:2]\n",
        "    u_xx = torch.autograd.grad(u_x, tx_f_, torch.ones_like(u_x), create_graph=True)[0][:,1:2]\n",
        "    f = u_t - model.alpha * u_xx\n",
        "    loss_pde = torch.mean(f**2)\n",
        "\n",
        "    # Erreur sur les données mesurées\n",
        "    u_pred_data = model(tx_data)\n",
        "    loss_data = torch.mean((u_pred_data - u_data)**2)\n",
        "\n",
        "    loss = loss_pde + loss_data\n",
        "    loss.backward()\n",
        "    optim.step()\n",
        "\n",
        "    if epoch % 500 == 0:\n",
        "        print(f\"Epoch {epoch}, Loss={loss.item():.5e}, alpha={model.alpha.item():.4f}\")\n",
        "\n",
        "# -------------------------\n",
        "# 4) Visualisation\n",
        "# -------------------------\n",
        "with torch.no_grad():\n",
        "    TX = torch.tensor(np.stack([T.flatten(),X.flatten()],axis=1),dtype=torch.float32).to(device)\n",
        "    U_pred = model(TX).cpu().numpy().reshape(nt,nx)\n",
        "\n",
        "plt.figure(figsize=(6,4))\n",
        "plt.imshow(U_pred, extent=[0,1,0,1], origin='lower', aspect='auto', cmap='hot')\n",
        "plt.colorbar(label='u')\n",
        "plt.xlabel('x'); plt.ylabel('t')\n",
        "plt.title(f'Solution PINN - alpha estimé = {model.alpha.item():.3f}')\n",
        "plt.show()\n"
      ]
    }
  ]
}